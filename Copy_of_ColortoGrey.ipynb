{
  "nbformat": 4,
  "nbformat_minor": 0,
  "metadata": {
    "colab": {
      "provenance": [],
      "include_colab_link": true
    },
    "kernelspec": {
      "name": "python3",
      "display_name": "Python 3"
    },
    "language_info": {
      "name": "python"
    }
  },
  "cells": [
    {
      "cell_type": "markdown",
      "metadata": {
        "id": "view-in-github",
        "colab_type": "text"
      },
      "source": [
        "<a href=\"https://colab.research.google.com/github/rohankhanna1928/TIET-SS-Mini-Project-23-Colored_to_Grayscale/blob/main/Copy_of_ColortoGrey.ipynb\" target=\"_parent\"><img src=\"https://colab.research.google.com/assets/colab-badge.svg\" alt=\"Open In Colab\"/></a>"
      ]
    },
    {
      "cell_type": "code",
      "source": [
        "import cv2\n",
        "import os\n",
        "\n",
        "input_folder = 'input_images'\n",
        "output_folder = 'grayscale_images'\n",
        "os.makedirs(output_folder, exist_ok=True)\n",
        "\n",
        "for filename in os.listdir(input_folder):\n",
        "    if filename.endswith(('.jpg', '.png', '.jpeg')):\n",
        "        img = cv2.imread(os.path.join(input_folder, filename))\n",
        "        gray_img = cv2.cvtColor(img, cv2.COLOR_BGR2GRAY)\n",
        "        cv2.imwrite(os.path.join(output_folder, filename), gray_img)\n",
        "\n",
        "print(\"All images converted to grayscale and saved to 'grayscale_images'.\")"
      ],
      "metadata": {
        "colab": {
          "base_uri": "https://localhost:8080/"
        },
        "id": "T-OfIFjJNz3U",
        "outputId": "4e1c6332-b37a-45cf-b4dc-f32103db3716"
      },
      "execution_count": 4,
      "outputs": [
        {
          "output_type": "stream",
          "name": "stdout",
          "text": [
            "All images converted to grayscale and saved to 'grayscale_images'.\n"
          ]
        }
      ]
    }
  ]
}